{
  "nbformat": 4,
  "nbformat_minor": 0,
  "metadata": {
    "colab": {
      "name": "roomRegress.ipynb",
      "provenance": [],
      "collapsed_sections": [],
      "authorship_tag": "ABX9TyNwBHSWSw4a0WYoRAzj9WU/",
      "include_colab_link": true
    },
    "kernelspec": {
      "name": "python3",
      "display_name": "Python 3"
    },
    "language_info": {
      "name": "python"
    }
  },
  "cells": [
    {
      "cell_type": "markdown",
      "metadata": {
        "id": "view-in-github",
        "colab_type": "text"
      },
      "source": [
        "<a href=\"https://colab.research.google.com/github/sulphatet/GetARoom_MLHackathlon/blob/main/roomRegress.ipynb\" target=\"_parent\"><img src=\"https://colab.research.google.com/assets/colab-badge.svg\" alt=\"Open In Colab\"/></a>"
      ]
    },
    {
      "cell_type": "code",
      "execution_count": null,
      "metadata": {
        "id": "0Rtae8ycYpWk",
        "colab": {
          "base_uri": "https://localhost:8080/"
        },
        "outputId": "fb397109-71af-49fe-8dd0-9f97f9bd6004"
      },
      "outputs": [
        {
          "output_type": "stream",
          "name": "stdout",
          "text": [
            "Mounted at /content/drive\n"
          ]
        }
      ],
      "source": [
        "from google.colab import drive\n",
        "drive.mount('/content/drive')"
      ]
    },
    {
      "cell_type": "code",
      "source": [
        "import pandas as pd\n",
        "import numpy as np\n",
        "import matplotlib.pyplot as plt"
      ],
      "metadata": {
        "id": "SHQaqje2ZFSv"
      },
      "execution_count": null,
      "outputs": []
    },
    {
      "cell_type": "code",
      "source": [
        "data =pd.read_csv(\"drive/My Drive/Data/train_DE1.csv\")\n",
        "test_data =pd.read_csv(\"drive/My Drive/Data/test_DE1.csv\")"
      ],
      "metadata": {
        "id": "vsfgQdOLZHpC"
      },
      "execution_count": null,
      "outputs": []
    },
    {
      "cell_type": "code",
      "source": [
        "data.head()"
      ],
      "metadata": {
        "colab": {
          "base_uri": "https://localhost:8080/",
          "height": 392
        },
        "id": "mPWUieXLbB-X",
        "outputId": "eae84eee-9bda-454a-a721-266f9c4047d6"
      },
      "execution_count": null,
      "outputs": [
        {
          "output_type": "execute_result",
          "data": {
            "text/plain": [
              "  Property_ID Property_Type  Property_Area  Number_of_Windows  \\\n",
              "0      0x21e3     Apartment            106                NaN   \n",
              "1      0x68d4     Apartment            733                2.0   \n",
              "2      0x7d81     Apartment            737                4.0   \n",
              "3      0x7a57     Apartment            900                3.0   \n",
              "4      0x9409      Bungalow           2238               14.0   \n",
              "\n",
              "   Number_of_Doors       Furnishing  Frequency_of_Powercuts Power_Backup  \\\n",
              "0                1   Semi_Furnished                     0.0           No   \n",
              "1                2      Unfurnished                     1.0           No   \n",
              "2                2  Fully Furnished                     0.0           No   \n",
              "3                2      Unfurnished                     2.0          Yes   \n",
              "4                6  Fully Furnished                     0.0           No   \n",
              "\n",
              "              Water_Supply  Traffic_Density_Score              Crime_Rate  \\\n",
              "0  Once in a day - Morning                   5.89  Slightly below average   \n",
              "1  Once in a day - Evening                   4.37      Well below average   \n",
              "2  Once in a day - Morning                   7.45  Slightly below average   \n",
              "3  Once in a day - Morning                   6.16      Well above average   \n",
              "4                 All time                   5.46      Well below average   \n",
              "\n",
              "  Dust_and_Noise  Air_Quality_Index  Neighborhood_Review  Habitability_score  \n",
              "0         Medium               90.0                 3.86               71.98  \n",
              "1         Medium               96.0                 3.55               71.20  \n",
              "2         Medium              121.0                 3.81               71.39  \n",
              "3         Medium              100.0                 1.34               31.46  \n",
              "4         Medium              116.0                 4.77               93.70  "
            ],
            "text/html": [
              "\n",
              "  <div id=\"df-ffbdf835-334f-46a2-a8f2-a70b23adb768\">\n",
              "    <div class=\"colab-df-container\">\n",
              "      <div>\n",
              "<style scoped>\n",
              "    .dataframe tbody tr th:only-of-type {\n",
              "        vertical-align: middle;\n",
              "    }\n",
              "\n",
              "    .dataframe tbody tr th {\n",
              "        vertical-align: top;\n",
              "    }\n",
              "\n",
              "    .dataframe thead th {\n",
              "        text-align: right;\n",
              "    }\n",
              "</style>\n",
              "<table border=\"1\" class=\"dataframe\">\n",
              "  <thead>\n",
              "    <tr style=\"text-align: right;\">\n",
              "      <th></th>\n",
              "      <th>Property_ID</th>\n",
              "      <th>Property_Type</th>\n",
              "      <th>Property_Area</th>\n",
              "      <th>Number_of_Windows</th>\n",
              "      <th>Number_of_Doors</th>\n",
              "      <th>Furnishing</th>\n",
              "      <th>Frequency_of_Powercuts</th>\n",
              "      <th>Power_Backup</th>\n",
              "      <th>Water_Supply</th>\n",
              "      <th>Traffic_Density_Score</th>\n",
              "      <th>Crime_Rate</th>\n",
              "      <th>Dust_and_Noise</th>\n",
              "      <th>Air_Quality_Index</th>\n",
              "      <th>Neighborhood_Review</th>\n",
              "      <th>Habitability_score</th>\n",
              "    </tr>\n",
              "  </thead>\n",
              "  <tbody>\n",
              "    <tr>\n",
              "      <th>0</th>\n",
              "      <td>0x21e3</td>\n",
              "      <td>Apartment</td>\n",
              "      <td>106</td>\n",
              "      <td>NaN</td>\n",
              "      <td>1</td>\n",
              "      <td>Semi_Furnished</td>\n",
              "      <td>0.0</td>\n",
              "      <td>No</td>\n",
              "      <td>Once in a day - Morning</td>\n",
              "      <td>5.89</td>\n",
              "      <td>Slightly below average</td>\n",
              "      <td>Medium</td>\n",
              "      <td>90.0</td>\n",
              "      <td>3.86</td>\n",
              "      <td>71.98</td>\n",
              "    </tr>\n",
              "    <tr>\n",
              "      <th>1</th>\n",
              "      <td>0x68d4</td>\n",
              "      <td>Apartment</td>\n",
              "      <td>733</td>\n",
              "      <td>2.0</td>\n",
              "      <td>2</td>\n",
              "      <td>Unfurnished</td>\n",
              "      <td>1.0</td>\n",
              "      <td>No</td>\n",
              "      <td>Once in a day - Evening</td>\n",
              "      <td>4.37</td>\n",
              "      <td>Well below average</td>\n",
              "      <td>Medium</td>\n",
              "      <td>96.0</td>\n",
              "      <td>3.55</td>\n",
              "      <td>71.20</td>\n",
              "    </tr>\n",
              "    <tr>\n",
              "      <th>2</th>\n",
              "      <td>0x7d81</td>\n",
              "      <td>Apartment</td>\n",
              "      <td>737</td>\n",
              "      <td>4.0</td>\n",
              "      <td>2</td>\n",
              "      <td>Fully Furnished</td>\n",
              "      <td>0.0</td>\n",
              "      <td>No</td>\n",
              "      <td>Once in a day - Morning</td>\n",
              "      <td>7.45</td>\n",
              "      <td>Slightly below average</td>\n",
              "      <td>Medium</td>\n",
              "      <td>121.0</td>\n",
              "      <td>3.81</td>\n",
              "      <td>71.39</td>\n",
              "    </tr>\n",
              "    <tr>\n",
              "      <th>3</th>\n",
              "      <td>0x7a57</td>\n",
              "      <td>Apartment</td>\n",
              "      <td>900</td>\n",
              "      <td>3.0</td>\n",
              "      <td>2</td>\n",
              "      <td>Unfurnished</td>\n",
              "      <td>2.0</td>\n",
              "      <td>Yes</td>\n",
              "      <td>Once in a day - Morning</td>\n",
              "      <td>6.16</td>\n",
              "      <td>Well above average</td>\n",
              "      <td>Medium</td>\n",
              "      <td>100.0</td>\n",
              "      <td>1.34</td>\n",
              "      <td>31.46</td>\n",
              "    </tr>\n",
              "    <tr>\n",
              "      <th>4</th>\n",
              "      <td>0x9409</td>\n",
              "      <td>Bungalow</td>\n",
              "      <td>2238</td>\n",
              "      <td>14.0</td>\n",
              "      <td>6</td>\n",
              "      <td>Fully Furnished</td>\n",
              "      <td>0.0</td>\n",
              "      <td>No</td>\n",
              "      <td>All time</td>\n",
              "      <td>5.46</td>\n",
              "      <td>Well below average</td>\n",
              "      <td>Medium</td>\n",
              "      <td>116.0</td>\n",
              "      <td>4.77</td>\n",
              "      <td>93.70</td>\n",
              "    </tr>\n",
              "  </tbody>\n",
              "</table>\n",
              "</div>\n",
              "      <button class=\"colab-df-convert\" onclick=\"convertToInteractive('df-ffbdf835-334f-46a2-a8f2-a70b23adb768')\"\n",
              "              title=\"Convert this dataframe to an interactive table.\"\n",
              "              style=\"display:none;\">\n",
              "        \n",
              "  <svg xmlns=\"http://www.w3.org/2000/svg\" height=\"24px\"viewBox=\"0 0 24 24\"\n",
              "       width=\"24px\">\n",
              "    <path d=\"M0 0h24v24H0V0z\" fill=\"none\"/>\n",
              "    <path d=\"M18.56 5.44l.94 2.06.94-2.06 2.06-.94-2.06-.94-.94-2.06-.94 2.06-2.06.94zm-11 1L8.5 8.5l.94-2.06 2.06-.94-2.06-.94L8.5 2.5l-.94 2.06-2.06.94zm10 10l.94 2.06.94-2.06 2.06-.94-2.06-.94-.94-2.06-.94 2.06-2.06.94z\"/><path d=\"M17.41 7.96l-1.37-1.37c-.4-.4-.92-.59-1.43-.59-.52 0-1.04.2-1.43.59L10.3 9.45l-7.72 7.72c-.78.78-.78 2.05 0 2.83L4 21.41c.39.39.9.59 1.41.59.51 0 1.02-.2 1.41-.59l7.78-7.78 2.81-2.81c.8-.78.8-2.07 0-2.86zM5.41 20L4 18.59l7.72-7.72 1.47 1.35L5.41 20z\"/>\n",
              "  </svg>\n",
              "      </button>\n",
              "      \n",
              "  <style>\n",
              "    .colab-df-container {\n",
              "      display:flex;\n",
              "      flex-wrap:wrap;\n",
              "      gap: 12px;\n",
              "    }\n",
              "\n",
              "    .colab-df-convert {\n",
              "      background-color: #E8F0FE;\n",
              "      border: none;\n",
              "      border-radius: 50%;\n",
              "      cursor: pointer;\n",
              "      display: none;\n",
              "      fill: #1967D2;\n",
              "      height: 32px;\n",
              "      padding: 0 0 0 0;\n",
              "      width: 32px;\n",
              "    }\n",
              "\n",
              "    .colab-df-convert:hover {\n",
              "      background-color: #E2EBFA;\n",
              "      box-shadow: 0px 1px 2px rgba(60, 64, 67, 0.3), 0px 1px 3px 1px rgba(60, 64, 67, 0.15);\n",
              "      fill: #174EA6;\n",
              "    }\n",
              "\n",
              "    [theme=dark] .colab-df-convert {\n",
              "      background-color: #3B4455;\n",
              "      fill: #D2E3FC;\n",
              "    }\n",
              "\n",
              "    [theme=dark] .colab-df-convert:hover {\n",
              "      background-color: #434B5C;\n",
              "      box-shadow: 0px 1px 3px 1px rgba(0, 0, 0, 0.15);\n",
              "      filter: drop-shadow(0px 1px 2px rgba(0, 0, 0, 0.3));\n",
              "      fill: #FFFFFF;\n",
              "    }\n",
              "  </style>\n",
              "\n",
              "      <script>\n",
              "        const buttonEl =\n",
              "          document.querySelector('#df-ffbdf835-334f-46a2-a8f2-a70b23adb768 button.colab-df-convert');\n",
              "        buttonEl.style.display =\n",
              "          google.colab.kernel.accessAllowed ? 'block' : 'none';\n",
              "\n",
              "        async function convertToInteractive(key) {\n",
              "          const element = document.querySelector('#df-ffbdf835-334f-46a2-a8f2-a70b23adb768');\n",
              "          const dataTable =\n",
              "            await google.colab.kernel.invokeFunction('convertToInteractive',\n",
              "                                                     [key], {});\n",
              "          if (!dataTable) return;\n",
              "\n",
              "          const docLinkHtml = 'Like what you see? Visit the ' +\n",
              "            '<a target=\"_blank\" href=https://colab.research.google.com/notebooks/data_table.ipynb>data table notebook</a>'\n",
              "            + ' to learn more about interactive tables.';\n",
              "          element.innerHTML = '';\n",
              "          dataTable['output_type'] = 'display_data';\n",
              "          await google.colab.output.renderOutput(dataTable, element);\n",
              "          const docLink = document.createElement('div');\n",
              "          docLink.innerHTML = docLinkHtml;\n",
              "          element.appendChild(docLink);\n",
              "        }\n",
              "      </script>\n",
              "    </div>\n",
              "  </div>\n",
              "  "
            ]
          },
          "metadata": {},
          "execution_count": 4
        }
      ]
    },
    {
      "cell_type": "code",
      "source": [
        "data.info()"
      ],
      "metadata": {
        "colab": {
          "base_uri": "https://localhost:8080/"
        },
        "id": "SK9z_0iwbI3h",
        "outputId": "fa5fb686-9120-4aa8-ba5e-2be1661b128b"
      },
      "execution_count": null,
      "outputs": [
        {
          "output_type": "stream",
          "name": "stdout",
          "text": [
            "<class 'pandas.core.frame.DataFrame'>\n",
            "RangeIndex: 39499 entries, 0 to 39498\n",
            "Data columns (total 15 columns):\n",
            " #   Column                  Non-Null Count  Dtype  \n",
            "---  ------                  --------------  -----  \n",
            " 0   Property_ID             39499 non-null  object \n",
            " 1   Property_Type           39499 non-null  object \n",
            " 2   Property_Area           39499 non-null  int64  \n",
            " 3   Number_of_Windows       37845 non-null  float64\n",
            " 4   Number_of_Doors         39499 non-null  int64  \n",
            " 5   Furnishing              38457 non-null  object \n",
            " 6   Frequency_of_Powercuts  38116 non-null  float64\n",
            " 7   Power_Backup            39499 non-null  object \n",
            " 8   Water_Supply            39499 non-null  object \n",
            " 9   Traffic_Density_Score   39499 non-null  float64\n",
            " 10  Crime_Rate              38712 non-null  object \n",
            " 11  Dust_and_Noise          38280 non-null  object \n",
            " 12  Air_Quality_Index       39499 non-null  float64\n",
            " 13  Neighborhood_Review     39499 non-null  float64\n",
            " 14  Habitability_score      39499 non-null  float64\n",
            "dtypes: float64(6), int64(2), object(7)\n",
            "memory usage: 4.5+ MB\n"
          ]
        }
      ]
    },
    {
      "cell_type": "code",
      "source": [
        "data['Property_Type'].unique()"
      ],
      "metadata": {
        "colab": {
          "base_uri": "https://localhost:8080/"
        },
        "id": "zWBTgzAUf79L",
        "outputId": "bacc65a7-68e5-4cf6-902f-4931a1436dfe"
      },
      "execution_count": null,
      "outputs": [
        {
          "output_type": "execute_result",
          "data": {
            "text/plain": [
              "array(['Apartment', 'Bungalow', 'Single-family home', 'Duplex',\n",
              "       '#R%$G&867', 'Container Home'], dtype=object)"
            ]
          },
          "metadata": {},
          "execution_count": 6
        }
      ]
    },
    {
      "cell_type": "code",
      "source": [
        "data['Property_Type'].replace(['Apartment', 'Bungalow', 'Single-family home', 'Duplex','#R%$G&867', 'Container Home'],[1,2,3,4,0,5])"
      ],
      "metadata": {
        "colab": {
          "base_uri": "https://localhost:8080/"
        },
        "id": "pDNyNfbbg3VK",
        "outputId": "d04b2873-7fbb-4051-fd58-3a3cef06fd95"
      },
      "execution_count": null,
      "outputs": [
        {
          "output_type": "execute_result",
          "data": {
            "text/plain": [
              "0        1\n",
              "1        1\n",
              "2        1\n",
              "3        1\n",
              "4        2\n",
              "        ..\n",
              "39494    3\n",
              "39495    1\n",
              "39496    2\n",
              "39497    3\n",
              "39498    3\n",
              "Name: Property_Type, Length: 39499, dtype: int64"
            ]
          },
          "metadata": {},
          "execution_count": 7
        }
      ]
    },
    {
      "cell_type": "code",
      "source": [
        "data['Furnishing'].unique()"
      ],
      "metadata": {
        "colab": {
          "base_uri": "https://localhost:8080/"
        },
        "id": "P9-NASXchbGC",
        "outputId": "25322b90-8b18-4af6-a1ca-456b67887a3a"
      },
      "execution_count": null,
      "outputs": [
        {
          "output_type": "execute_result",
          "data": {
            "text/plain": [
              "array(['Semi_Furnished', 'Unfurnished', 'Fully Furnished', nan],\n",
              "      dtype=object)"
            ]
          },
          "metadata": {},
          "execution_count": 8
        }
      ]
    },
    {
      "cell_type": "code",
      "source": [
        "data['Furnishing'].replace(['Semi_Furnished', 'Unfurnished', 'Fully Furnished', 'nan'],[1,2,3,0])"
      ],
      "metadata": {
        "colab": {
          "base_uri": "https://localhost:8080/"
        },
        "id": "UUP9SA14hhKl",
        "outputId": "36aad07b-1778-4b0b-df83-57ecec3735c8"
      },
      "execution_count": null,
      "outputs": [
        {
          "output_type": "execute_result",
          "data": {
            "text/plain": [
              "0        1.0\n",
              "1        2.0\n",
              "2        3.0\n",
              "3        2.0\n",
              "4        3.0\n",
              "        ... \n",
              "39494    NaN\n",
              "39495    3.0\n",
              "39496    2.0\n",
              "39497    1.0\n",
              "39498    3.0\n",
              "Name: Furnishing, Length: 39499, dtype: float64"
            ]
          },
          "metadata": {},
          "execution_count": 9
        }
      ]
    },
    {
      "cell_type": "code",
      "source": [
        "#data['Water_Supply'].unique()\n",
        "#data['Crime_Rate'].unique()\n",
        "#data['Dust_and_Noise'].unique()\n",
        "data['Power_Backup'].unique()"
      ],
      "metadata": {
        "colab": {
          "base_uri": "https://localhost:8080/"
        },
        "id": "dbGT60vah4z-",
        "outputId": "749e8880-438d-4398-ea5e-25bd338ef38e"
      },
      "execution_count": null,
      "outputs": [
        {
          "output_type": "execute_result",
          "data": {
            "text/plain": [
              "array(['No', 'Yes', 'NOT MENTIONED'], dtype=object)"
            ]
          },
          "metadata": {},
          "execution_count": 10
        }
      ]
    },
    {
      "cell_type": "code",
      "source": [
        "data['Water_Supply'].replace(['Once in a day - Morning', 'Once in a day - Evening', 'All time','NOT MENTIONED', 'Once in two days'],[1,2,3,0,4])\n",
        "data['Crime_Rate'].replace(['Slightly below average', 'Well below average','Well above average', 'nan', 'Slightly above average'],[1,2,3,0,4])\n",
        "data['Dust_and_Noise'].replace(['Medium', 'nan', 'High', 'Low'],[2,0,3,1])"
      ],
      "metadata": {
        "colab": {
          "base_uri": "https://localhost:8080/"
        },
        "id": "fEKaMeW_iEDU",
        "outputId": "1868f088-fb66-4b37-9510-8b4e59718f8b"
      },
      "execution_count": null,
      "outputs": [
        {
          "output_type": "execute_result",
          "data": {
            "text/plain": [
              "0        2.0\n",
              "1        2.0\n",
              "2        2.0\n",
              "3        2.0\n",
              "4        2.0\n",
              "        ... \n",
              "39494    2.0\n",
              "39495    2.0\n",
              "39496    2.0\n",
              "39497    NaN\n",
              "39498    3.0\n",
              "Name: Dust_and_Noise, Length: 39499, dtype: float64"
            ]
          },
          "metadata": {},
          "execution_count": 11
        }
      ]
    },
    {
      "cell_type": "code",
      "source": [
        "data.head()"
      ],
      "metadata": {
        "colab": {
          "base_uri": "https://localhost:8080/",
          "height": 392
        },
        "id": "8P8Cr3M9jYx_",
        "outputId": "a26738e6-6bec-4f37-ebc2-4a95590885c9"
      },
      "execution_count": null,
      "outputs": [
        {
          "output_type": "execute_result",
          "data": {
            "text/plain": [
              "  Property_ID Property_Type  Property_Area  Number_of_Windows  \\\n",
              "0      0x21e3     Apartment            106                NaN   \n",
              "1      0x68d4     Apartment            733                2.0   \n",
              "2      0x7d81     Apartment            737                4.0   \n",
              "3      0x7a57     Apartment            900                3.0   \n",
              "4      0x9409      Bungalow           2238               14.0   \n",
              "\n",
              "   Number_of_Doors       Furnishing  Frequency_of_Powercuts Power_Backup  \\\n",
              "0                1   Semi_Furnished                     0.0           No   \n",
              "1                2      Unfurnished                     1.0           No   \n",
              "2                2  Fully Furnished                     0.0           No   \n",
              "3                2      Unfurnished                     2.0          Yes   \n",
              "4                6  Fully Furnished                     0.0           No   \n",
              "\n",
              "              Water_Supply  Traffic_Density_Score              Crime_Rate  \\\n",
              "0  Once in a day - Morning                   5.89  Slightly below average   \n",
              "1  Once in a day - Evening                   4.37      Well below average   \n",
              "2  Once in a day - Morning                   7.45  Slightly below average   \n",
              "3  Once in a day - Morning                   6.16      Well above average   \n",
              "4                 All time                   5.46      Well below average   \n",
              "\n",
              "  Dust_and_Noise  Air_Quality_Index  Neighborhood_Review  Habitability_score  \n",
              "0         Medium               90.0                 3.86               71.98  \n",
              "1         Medium               96.0                 3.55               71.20  \n",
              "2         Medium              121.0                 3.81               71.39  \n",
              "3         Medium              100.0                 1.34               31.46  \n",
              "4         Medium              116.0                 4.77               93.70  "
            ],
            "text/html": [
              "\n",
              "  <div id=\"df-ab69ea19-a836-45ef-aa69-bf9af6605efa\">\n",
              "    <div class=\"colab-df-container\">\n",
              "      <div>\n",
              "<style scoped>\n",
              "    .dataframe tbody tr th:only-of-type {\n",
              "        vertical-align: middle;\n",
              "    }\n",
              "\n",
              "    .dataframe tbody tr th {\n",
              "        vertical-align: top;\n",
              "    }\n",
              "\n",
              "    .dataframe thead th {\n",
              "        text-align: right;\n",
              "    }\n",
              "</style>\n",
              "<table border=\"1\" class=\"dataframe\">\n",
              "  <thead>\n",
              "    <tr style=\"text-align: right;\">\n",
              "      <th></th>\n",
              "      <th>Property_ID</th>\n",
              "      <th>Property_Type</th>\n",
              "      <th>Property_Area</th>\n",
              "      <th>Number_of_Windows</th>\n",
              "      <th>Number_of_Doors</th>\n",
              "      <th>Furnishing</th>\n",
              "      <th>Frequency_of_Powercuts</th>\n",
              "      <th>Power_Backup</th>\n",
              "      <th>Water_Supply</th>\n",
              "      <th>Traffic_Density_Score</th>\n",
              "      <th>Crime_Rate</th>\n",
              "      <th>Dust_and_Noise</th>\n",
              "      <th>Air_Quality_Index</th>\n",
              "      <th>Neighborhood_Review</th>\n",
              "      <th>Habitability_score</th>\n",
              "    </tr>\n",
              "  </thead>\n",
              "  <tbody>\n",
              "    <tr>\n",
              "      <th>0</th>\n",
              "      <td>0x21e3</td>\n",
              "      <td>Apartment</td>\n",
              "      <td>106</td>\n",
              "      <td>NaN</td>\n",
              "      <td>1</td>\n",
              "      <td>Semi_Furnished</td>\n",
              "      <td>0.0</td>\n",
              "      <td>No</td>\n",
              "      <td>Once in a day - Morning</td>\n",
              "      <td>5.89</td>\n",
              "      <td>Slightly below average</td>\n",
              "      <td>Medium</td>\n",
              "      <td>90.0</td>\n",
              "      <td>3.86</td>\n",
              "      <td>71.98</td>\n",
              "    </tr>\n",
              "    <tr>\n",
              "      <th>1</th>\n",
              "      <td>0x68d4</td>\n",
              "      <td>Apartment</td>\n",
              "      <td>733</td>\n",
              "      <td>2.0</td>\n",
              "      <td>2</td>\n",
              "      <td>Unfurnished</td>\n",
              "      <td>1.0</td>\n",
              "      <td>No</td>\n",
              "      <td>Once in a day - Evening</td>\n",
              "      <td>4.37</td>\n",
              "      <td>Well below average</td>\n",
              "      <td>Medium</td>\n",
              "      <td>96.0</td>\n",
              "      <td>3.55</td>\n",
              "      <td>71.20</td>\n",
              "    </tr>\n",
              "    <tr>\n",
              "      <th>2</th>\n",
              "      <td>0x7d81</td>\n",
              "      <td>Apartment</td>\n",
              "      <td>737</td>\n",
              "      <td>4.0</td>\n",
              "      <td>2</td>\n",
              "      <td>Fully Furnished</td>\n",
              "      <td>0.0</td>\n",
              "      <td>No</td>\n",
              "      <td>Once in a day - Morning</td>\n",
              "      <td>7.45</td>\n",
              "      <td>Slightly below average</td>\n",
              "      <td>Medium</td>\n",
              "      <td>121.0</td>\n",
              "      <td>3.81</td>\n",
              "      <td>71.39</td>\n",
              "    </tr>\n",
              "    <tr>\n",
              "      <th>3</th>\n",
              "      <td>0x7a57</td>\n",
              "      <td>Apartment</td>\n",
              "      <td>900</td>\n",
              "      <td>3.0</td>\n",
              "      <td>2</td>\n",
              "      <td>Unfurnished</td>\n",
              "      <td>2.0</td>\n",
              "      <td>Yes</td>\n",
              "      <td>Once in a day - Morning</td>\n",
              "      <td>6.16</td>\n",
              "      <td>Well above average</td>\n",
              "      <td>Medium</td>\n",
              "      <td>100.0</td>\n",
              "      <td>1.34</td>\n",
              "      <td>31.46</td>\n",
              "    </tr>\n",
              "    <tr>\n",
              "      <th>4</th>\n",
              "      <td>0x9409</td>\n",
              "      <td>Bungalow</td>\n",
              "      <td>2238</td>\n",
              "      <td>14.0</td>\n",
              "      <td>6</td>\n",
              "      <td>Fully Furnished</td>\n",
              "      <td>0.0</td>\n",
              "      <td>No</td>\n",
              "      <td>All time</td>\n",
              "      <td>5.46</td>\n",
              "      <td>Well below average</td>\n",
              "      <td>Medium</td>\n",
              "      <td>116.0</td>\n",
              "      <td>4.77</td>\n",
              "      <td>93.70</td>\n",
              "    </tr>\n",
              "  </tbody>\n",
              "</table>\n",
              "</div>\n",
              "      <button class=\"colab-df-convert\" onclick=\"convertToInteractive('df-ab69ea19-a836-45ef-aa69-bf9af6605efa')\"\n",
              "              title=\"Convert this dataframe to an interactive table.\"\n",
              "              style=\"display:none;\">\n",
              "        \n",
              "  <svg xmlns=\"http://www.w3.org/2000/svg\" height=\"24px\"viewBox=\"0 0 24 24\"\n",
              "       width=\"24px\">\n",
              "    <path d=\"M0 0h24v24H0V0z\" fill=\"none\"/>\n",
              "    <path d=\"M18.56 5.44l.94 2.06.94-2.06 2.06-.94-2.06-.94-.94-2.06-.94 2.06-2.06.94zm-11 1L8.5 8.5l.94-2.06 2.06-.94-2.06-.94L8.5 2.5l-.94 2.06-2.06.94zm10 10l.94 2.06.94-2.06 2.06-.94-2.06-.94-.94-2.06-.94 2.06-2.06.94z\"/><path d=\"M17.41 7.96l-1.37-1.37c-.4-.4-.92-.59-1.43-.59-.52 0-1.04.2-1.43.59L10.3 9.45l-7.72 7.72c-.78.78-.78 2.05 0 2.83L4 21.41c.39.39.9.59 1.41.59.51 0 1.02-.2 1.41-.59l7.78-7.78 2.81-2.81c.8-.78.8-2.07 0-2.86zM5.41 20L4 18.59l7.72-7.72 1.47 1.35L5.41 20z\"/>\n",
              "  </svg>\n",
              "      </button>\n",
              "      \n",
              "  <style>\n",
              "    .colab-df-container {\n",
              "      display:flex;\n",
              "      flex-wrap:wrap;\n",
              "      gap: 12px;\n",
              "    }\n",
              "\n",
              "    .colab-df-convert {\n",
              "      background-color: #E8F0FE;\n",
              "      border: none;\n",
              "      border-radius: 50%;\n",
              "      cursor: pointer;\n",
              "      display: none;\n",
              "      fill: #1967D2;\n",
              "      height: 32px;\n",
              "      padding: 0 0 0 0;\n",
              "      width: 32px;\n",
              "    }\n",
              "\n",
              "    .colab-df-convert:hover {\n",
              "      background-color: #E2EBFA;\n",
              "      box-shadow: 0px 1px 2px rgba(60, 64, 67, 0.3), 0px 1px 3px 1px rgba(60, 64, 67, 0.15);\n",
              "      fill: #174EA6;\n",
              "    }\n",
              "\n",
              "    [theme=dark] .colab-df-convert {\n",
              "      background-color: #3B4455;\n",
              "      fill: #D2E3FC;\n",
              "    }\n",
              "\n",
              "    [theme=dark] .colab-df-convert:hover {\n",
              "      background-color: #434B5C;\n",
              "      box-shadow: 0px 1px 3px 1px rgba(0, 0, 0, 0.15);\n",
              "      filter: drop-shadow(0px 1px 2px rgba(0, 0, 0, 0.3));\n",
              "      fill: #FFFFFF;\n",
              "    }\n",
              "  </style>\n",
              "\n",
              "      <script>\n",
              "        const buttonEl =\n",
              "          document.querySelector('#df-ab69ea19-a836-45ef-aa69-bf9af6605efa button.colab-df-convert');\n",
              "        buttonEl.style.display =\n",
              "          google.colab.kernel.accessAllowed ? 'block' : 'none';\n",
              "\n",
              "        async function convertToInteractive(key) {\n",
              "          const element = document.querySelector('#df-ab69ea19-a836-45ef-aa69-bf9af6605efa');\n",
              "          const dataTable =\n",
              "            await google.colab.kernel.invokeFunction('convertToInteractive',\n",
              "                                                     [key], {});\n",
              "          if (!dataTable) return;\n",
              "\n",
              "          const docLinkHtml = 'Like what you see? Visit the ' +\n",
              "            '<a target=\"_blank\" href=https://colab.research.google.com/notebooks/data_table.ipynb>data table notebook</a>'\n",
              "            + ' to learn more about interactive tables.';\n",
              "          element.innerHTML = '';\n",
              "          dataTable['output_type'] = 'display_data';\n",
              "          await google.colab.output.renderOutput(dataTable, element);\n",
              "          const docLink = document.createElement('div');\n",
              "          docLink.innerHTML = docLinkHtml;\n",
              "          element.appendChild(docLink);\n",
              "        }\n",
              "      </script>\n",
              "    </div>\n",
              "  </div>\n",
              "  "
            ]
          },
          "metadata": {},
          "execution_count": 12
        }
      ]
    },
    {
      "cell_type": "code",
      "source": [
        "for val, item in data.iteritems():\n",
        "  print(val)\n",
        "  #print(item)"
      ],
      "metadata": {
        "colab": {
          "base_uri": "https://localhost:8080/"
        },
        "id": "qLsDH8xDSl4t",
        "outputId": "780795f1-b5ba-49b5-b2a1-0344c3250a49"
      },
      "execution_count": null,
      "outputs": [
        {
          "output_type": "stream",
          "name": "stdout",
          "text": [
            "Property_ID\n",
            "Property_Type\n",
            "Property_Area\n",
            "Number_of_Windows\n",
            "Number_of_Doors\n",
            "Furnishing\n",
            "Frequency_of_Powercuts\n",
            "Power_Backup\n",
            "Water_Supply\n",
            "Traffic_Density_Score\n",
            "Crime_Rate\n",
            "Dust_and_Noise\n",
            "Air_Quality_Index\n",
            "Neighborhood_Review\n",
            "Habitability_score\n"
          ]
        }
      ]
    },
    {
      "cell_type": "code",
      "source": [
        "test_data.head()"
      ],
      "metadata": {
        "colab": {
          "base_uri": "https://localhost:8080/",
          "height": 392
        },
        "id": "5z3Jbn3BbMbA",
        "outputId": "2ff474d3-4345-4aee-b374-65138c1b3699"
      },
      "execution_count": null,
      "outputs": [
        {
          "output_type": "execute_result",
          "data": {
            "text/plain": [
              "  Property_ID   Property_Type  Property_Area  Number_of_Windows  \\\n",
              "0      0x6e93       Apartment            293                3.0   \n",
              "1      0x8787       Apartment            586                4.0   \n",
              "2      0x6c17  Container Home            305                1.0   \n",
              "3      0x9dbd       Apartment            258                2.0   \n",
              "4      0xbfde        Bungalow           3031               12.0   \n",
              "\n",
              "   Number_of_Doors       Furnishing  Frequency_of_Powercuts Power_Backup  \\\n",
              "0                1      Unfurnished                     0.0           No   \n",
              "1                1   Semi_Furnished                     0.0           No   \n",
              "2                2   Semi_Furnished                     1.0           No   \n",
              "3                1   Semi_Furnished                     1.0           No   \n",
              "4                4  Fully Furnished                     0.0           No   \n",
              "\n",
              "              Water_Supply  Traffic_Density_Score              Crime_Rate  \\\n",
              "0  Once in a day - Morning                   7.28      Well above average   \n",
              "1  Once in a day - Evening                   7.63      Well below average   \n",
              "2                 All time                   5.39  Slightly above average   \n",
              "3                 All time                   7.53  Slightly below average   \n",
              "4                 All time                   8.79      Well above average   \n",
              "\n",
              "  Dust_and_Noise  Air_Quality_Index  Neighborhood_Review  \n",
              "0         Medium              152.0                 2.52  \n",
              "1         Medium               92.0                 4.16  \n",
              "2         Medium               90.0                 2.92  \n",
              "3         Medium              158.0                 3.45  \n",
              "4           High              186.0                 2.72  "
            ],
            "text/html": [
              "\n",
              "  <div id=\"df-a25a469d-2c4e-4e97-a5cd-dec36d195dc6\">\n",
              "    <div class=\"colab-df-container\">\n",
              "      <div>\n",
              "<style scoped>\n",
              "    .dataframe tbody tr th:only-of-type {\n",
              "        vertical-align: middle;\n",
              "    }\n",
              "\n",
              "    .dataframe tbody tr th {\n",
              "        vertical-align: top;\n",
              "    }\n",
              "\n",
              "    .dataframe thead th {\n",
              "        text-align: right;\n",
              "    }\n",
              "</style>\n",
              "<table border=\"1\" class=\"dataframe\">\n",
              "  <thead>\n",
              "    <tr style=\"text-align: right;\">\n",
              "      <th></th>\n",
              "      <th>Property_ID</th>\n",
              "      <th>Property_Type</th>\n",
              "      <th>Property_Area</th>\n",
              "      <th>Number_of_Windows</th>\n",
              "      <th>Number_of_Doors</th>\n",
              "      <th>Furnishing</th>\n",
              "      <th>Frequency_of_Powercuts</th>\n",
              "      <th>Power_Backup</th>\n",
              "      <th>Water_Supply</th>\n",
              "      <th>Traffic_Density_Score</th>\n",
              "      <th>Crime_Rate</th>\n",
              "      <th>Dust_and_Noise</th>\n",
              "      <th>Air_Quality_Index</th>\n",
              "      <th>Neighborhood_Review</th>\n",
              "    </tr>\n",
              "  </thead>\n",
              "  <tbody>\n",
              "    <tr>\n",
              "      <th>0</th>\n",
              "      <td>0x6e93</td>\n",
              "      <td>Apartment</td>\n",
              "      <td>293</td>\n",
              "      <td>3.0</td>\n",
              "      <td>1</td>\n",
              "      <td>Unfurnished</td>\n",
              "      <td>0.0</td>\n",
              "      <td>No</td>\n",
              "      <td>Once in a day - Morning</td>\n",
              "      <td>7.28</td>\n",
              "      <td>Well above average</td>\n",
              "      <td>Medium</td>\n",
              "      <td>152.0</td>\n",
              "      <td>2.52</td>\n",
              "    </tr>\n",
              "    <tr>\n",
              "      <th>1</th>\n",
              "      <td>0x8787</td>\n",
              "      <td>Apartment</td>\n",
              "      <td>586</td>\n",
              "      <td>4.0</td>\n",
              "      <td>1</td>\n",
              "      <td>Semi_Furnished</td>\n",
              "      <td>0.0</td>\n",
              "      <td>No</td>\n",
              "      <td>Once in a day - Evening</td>\n",
              "      <td>7.63</td>\n",
              "      <td>Well below average</td>\n",
              "      <td>Medium</td>\n",
              "      <td>92.0</td>\n",
              "      <td>4.16</td>\n",
              "    </tr>\n",
              "    <tr>\n",
              "      <th>2</th>\n",
              "      <td>0x6c17</td>\n",
              "      <td>Container Home</td>\n",
              "      <td>305</td>\n",
              "      <td>1.0</td>\n",
              "      <td>2</td>\n",
              "      <td>Semi_Furnished</td>\n",
              "      <td>1.0</td>\n",
              "      <td>No</td>\n",
              "      <td>All time</td>\n",
              "      <td>5.39</td>\n",
              "      <td>Slightly above average</td>\n",
              "      <td>Medium</td>\n",
              "      <td>90.0</td>\n",
              "      <td>2.92</td>\n",
              "    </tr>\n",
              "    <tr>\n",
              "      <th>3</th>\n",
              "      <td>0x9dbd</td>\n",
              "      <td>Apartment</td>\n",
              "      <td>258</td>\n",
              "      <td>2.0</td>\n",
              "      <td>1</td>\n",
              "      <td>Semi_Furnished</td>\n",
              "      <td>1.0</td>\n",
              "      <td>No</td>\n",
              "      <td>All time</td>\n",
              "      <td>7.53</td>\n",
              "      <td>Slightly below average</td>\n",
              "      <td>Medium</td>\n",
              "      <td>158.0</td>\n",
              "      <td>3.45</td>\n",
              "    </tr>\n",
              "    <tr>\n",
              "      <th>4</th>\n",
              "      <td>0xbfde</td>\n",
              "      <td>Bungalow</td>\n",
              "      <td>3031</td>\n",
              "      <td>12.0</td>\n",
              "      <td>4</td>\n",
              "      <td>Fully Furnished</td>\n",
              "      <td>0.0</td>\n",
              "      <td>No</td>\n",
              "      <td>All time</td>\n",
              "      <td>8.79</td>\n",
              "      <td>Well above average</td>\n",
              "      <td>High</td>\n",
              "      <td>186.0</td>\n",
              "      <td>2.72</td>\n",
              "    </tr>\n",
              "  </tbody>\n",
              "</table>\n",
              "</div>\n",
              "      <button class=\"colab-df-convert\" onclick=\"convertToInteractive('df-a25a469d-2c4e-4e97-a5cd-dec36d195dc6')\"\n",
              "              title=\"Convert this dataframe to an interactive table.\"\n",
              "              style=\"display:none;\">\n",
              "        \n",
              "  <svg xmlns=\"http://www.w3.org/2000/svg\" height=\"24px\"viewBox=\"0 0 24 24\"\n",
              "       width=\"24px\">\n",
              "    <path d=\"M0 0h24v24H0V0z\" fill=\"none\"/>\n",
              "    <path d=\"M18.56 5.44l.94 2.06.94-2.06 2.06-.94-2.06-.94-.94-2.06-.94 2.06-2.06.94zm-11 1L8.5 8.5l.94-2.06 2.06-.94-2.06-.94L8.5 2.5l-.94 2.06-2.06.94zm10 10l.94 2.06.94-2.06 2.06-.94-2.06-.94-.94-2.06-.94 2.06-2.06.94z\"/><path d=\"M17.41 7.96l-1.37-1.37c-.4-.4-.92-.59-1.43-.59-.52 0-1.04.2-1.43.59L10.3 9.45l-7.72 7.72c-.78.78-.78 2.05 0 2.83L4 21.41c.39.39.9.59 1.41.59.51 0 1.02-.2 1.41-.59l7.78-7.78 2.81-2.81c.8-.78.8-2.07 0-2.86zM5.41 20L4 18.59l7.72-7.72 1.47 1.35L5.41 20z\"/>\n",
              "  </svg>\n",
              "      </button>\n",
              "      \n",
              "  <style>\n",
              "    .colab-df-container {\n",
              "      display:flex;\n",
              "      flex-wrap:wrap;\n",
              "      gap: 12px;\n",
              "    }\n",
              "\n",
              "    .colab-df-convert {\n",
              "      background-color: #E8F0FE;\n",
              "      border: none;\n",
              "      border-radius: 50%;\n",
              "      cursor: pointer;\n",
              "      display: none;\n",
              "      fill: #1967D2;\n",
              "      height: 32px;\n",
              "      padding: 0 0 0 0;\n",
              "      width: 32px;\n",
              "    }\n",
              "\n",
              "    .colab-df-convert:hover {\n",
              "      background-color: #E2EBFA;\n",
              "      box-shadow: 0px 1px 2px rgba(60, 64, 67, 0.3), 0px 1px 3px 1px rgba(60, 64, 67, 0.15);\n",
              "      fill: #174EA6;\n",
              "    }\n",
              "\n",
              "    [theme=dark] .colab-df-convert {\n",
              "      background-color: #3B4455;\n",
              "      fill: #D2E3FC;\n",
              "    }\n",
              "\n",
              "    [theme=dark] .colab-df-convert:hover {\n",
              "      background-color: #434B5C;\n",
              "      box-shadow: 0px 1px 3px 1px rgba(0, 0, 0, 0.15);\n",
              "      filter: drop-shadow(0px 1px 2px rgba(0, 0, 0, 0.3));\n",
              "      fill: #FFFFFF;\n",
              "    }\n",
              "  </style>\n",
              "\n",
              "      <script>\n",
              "        const buttonEl =\n",
              "          document.querySelector('#df-a25a469d-2c4e-4e97-a5cd-dec36d195dc6 button.colab-df-convert');\n",
              "        buttonEl.style.display =\n",
              "          google.colab.kernel.accessAllowed ? 'block' : 'none';\n",
              "\n",
              "        async function convertToInteractive(key) {\n",
              "          const element = document.querySelector('#df-a25a469d-2c4e-4e97-a5cd-dec36d195dc6');\n",
              "          const dataTable =\n",
              "            await google.colab.kernel.invokeFunction('convertToInteractive',\n",
              "                                                     [key], {});\n",
              "          if (!dataTable) return;\n",
              "\n",
              "          const docLinkHtml = 'Like what you see? Visit the ' +\n",
              "            '<a target=\"_blank\" href=https://colab.research.google.com/notebooks/data_table.ipynb>data table notebook</a>'\n",
              "            + ' to learn more about interactive tables.';\n",
              "          element.innerHTML = '';\n",
              "          dataTable['output_type'] = 'display_data';\n",
              "          await google.colab.output.renderOutput(dataTable, element);\n",
              "          const docLink = document.createElement('div');\n",
              "          docLink.innerHTML = docLinkHtml;\n",
              "          element.appendChild(docLink);\n",
              "        }\n",
              "      </script>\n",
              "    </div>\n",
              "  </div>\n",
              "  "
            ]
          },
          "metadata": {},
          "execution_count": 14
        }
      ]
    },
    {
      "cell_type": "code",
      "source": [
        "from sklearn.model_selection import train_test_split\n",
        "data_train,data_test = train_test_split(data)"
      ],
      "metadata": {
        "id": "_yqkRjYEb9hU"
      },
      "execution_count": null,
      "outputs": []
    },
    {
      "cell_type": "code",
      "source": [
        "len(data_train)"
      ],
      "metadata": {
        "colab": {
          "base_uri": "https://localhost:8080/"
        },
        "id": "Vw2mFC74caE6",
        "outputId": "7de49d2d-d074-48b7-f2c6-ccc0365b7a89"
      },
      "execution_count": null,
      "outputs": [
        {
          "output_type": "execute_result",
          "data": {
            "text/plain": [
              "29624"
            ]
          },
          "metadata": {},
          "execution_count": 16
        }
      ]
    },
    {
      "cell_type": "code",
      "source": [
        "len(data_test)"
      ],
      "metadata": {
        "colab": {
          "base_uri": "https://localhost:8080/"
        },
        "id": "8xU2TmvgccUG",
        "outputId": "8f512286-e3bb-46cf-f878-960009c48423"
      },
      "execution_count": null,
      "outputs": [
        {
          "output_type": "execute_result",
          "data": {
            "text/plain": [
              "9875"
            ]
          },
          "metadata": {},
          "execution_count": 17
        }
      ]
    },
    {
      "cell_type": "code",
      "source": [
        "from sklearn import preprocessing\n",
        "from sklearn.preprocessing import RobustScaler\n",
        "\n",
        "data_train['Furnishing'] = data_train['Furnishing'].replace(['Semi_Furnished', 'Unfurnished', 'Fully Furnished', np.NaN],[1,2,3,0])\n",
        "data_train['Property_Type'] = data['Property_Type'].replace(['Apartment', 'Bungalow', 'Single-family home', 'Duplex','#R%$G&867', 'Container Home'],[1,2,3,4,0,5])\n",
        "data_train['Water_Supply'] = data_train['Water_Supply'].replace(['Once in a day - Morning', 'Once in a day - Evening', 'All time','NOT MENTIONED', 'Once in two days'],[1,2,3,0,4])\n",
        "data_train['Crime_Rate'] = data_train['Crime_Rate'].replace(['Slightly below average', 'Well below average','Well above average', np.NaN, 'Slightly above average'],[1,2,3,0,4])\n",
        "data_train['Dust_and_Noise'] = data['Dust_and_Noise'].replace(['Medium', np.NaN, 'High', 'Low'],[2,0,3,1])\n",
        "data_train['Power_Backup'] = data['Power_Backup'].replace(['No', 'Yes','NOT MENTIONED'],[0,1,-1])\n",
        "#data_train['Frequency_of_Powercuts'] = data['Frequency_of_Powercuts'].replace([np.NaN]],[0.5])\n",
        "\n",
        "data_train = data_train.replace(np.NaN,0)\n",
        "\n",
        "X_train = data_train.iloc[:,1:-1]\n",
        "Y_train = data_train['Habitability_score']\n",
        "#scaler = preprocessing.StandardScaler().fit(X_train)\n",
        "transformer = RobustScaler().fit(X_train)"
      ],
      "metadata": {
        "id": "meO6Mzhncduq"
      },
      "execution_count": null,
      "outputs": []
    },
    {
      "cell_type": "code",
      "source": [
        "#X_scaled = scaler.transform(X_train)\n",
        "#X_scaled = transformer.transform(X_train)\n"
      ],
      "metadata": {
        "id": "vT8m9o-zdKIO"
      },
      "execution_count": null,
      "outputs": []
    },
    {
      "cell_type": "code",
      "source": [
        "#X_train = X_scaled"
      ],
      "metadata": {
        "id": "5fmC__I8WiN5"
      },
      "execution_count": null,
      "outputs": []
    },
    {
      "cell_type": "code",
      "source": [
        "data_test['Furnishing'] = data['Furnishing'].replace(['Semi_Furnished', 'Unfurnished', 'Fully Furnished', np.NaN],[1,2,3,0])\n",
        "data_test['Property_Type'] = data['Property_Type'].replace(['Apartment', 'Bungalow', 'Single-family home', 'Duplex','#R%$G&867', 'Container Home'],[1,2,3,4,0,5])\n",
        "data_test['Water_Supply'] = data['Water_Supply'].replace(['Once in a day - Morning', 'Once in a day - Evening', 'All time','NOT MENTIONED', 'Once in two days'],[1,2,3,0,4])\n",
        "data_test['Crime_Rate'] = data['Crime_Rate'].replace(['Slightly below average', 'Well below average','Well above average', np.NaN, 'Slightly above average'],[1,2,3,0,4])\n",
        "data_test['Dust_and_Noise'] = data['Dust_and_Noise'].replace(['Medium', np.NaN, 'High', 'Low'],[2,0,3,1])\n",
        "data_test['Power_Backup'] = data['Power_Backup'].replace(['No', 'Yes','NOT MENTIONED'],[0,1,-1])\n",
        "#data_train['Frequency_of_Powercuts'] = data['Frequency_of_Powercuts'].replace([np.NaN]],[0.5])\n",
        "\n",
        "data_test = data_test.replace(np.NaN,0)\n",
        "X_test = data_test.iloc[:,1:-1]\n",
        "Y_test = data_test['Habitability_score'] \n",
        "#scaler = preprocessing.StandardScaler().fit(X_test)\n",
        "#X_scaled = scaler.transform(X_test)\n",
        "#X_test = X_scaled\n",
        "#transformer = RobustScaler().fit(X_test)\n",
        "#X_scaled = transformer.transform(X_test)\n",
        "#X_test = X_scaled"
      ],
      "metadata": {
        "id": "mX0Ye4Aadnji"
      },
      "execution_count": null,
      "outputs": []
    },
    {
      "cell_type": "code",
      "source": [
        "from sklearn.linear_model import LinearRegression\n",
        "from sklearn.ensemble import RandomForestRegressor\n",
        "model = LinearRegression()\n",
        "clf1 = model.fit(X_train,Y_train)\n",
        "model = RandomForestRegressor()\n",
        "clf2 = model.fit(X_train,Y_train)\n"
      ],
      "metadata": {
        "id": "Lpdp5uiqdLck"
      },
      "execution_count": null,
      "outputs": []
    },
    {
      "cell_type": "code",
      "source": [
        "model = RandomForestRegressor(n_estimators=150)\n",
        "clf3 = model.fit(X_train,Y_train)"
      ],
      "metadata": {
        "id": "kD9lKIfrupfT"
      },
      "execution_count": null,
      "outputs": []
    },
    {
      "cell_type": "code",
      "source": [
        "Y_pred = clf1.predict(X_test)"
      ],
      "metadata": {
        "id": "iDoIMToRo7Vu"
      },
      "execution_count": null,
      "outputs": []
    },
    {
      "cell_type": "code",
      "source": [
        "from sklearn.metrics import r2_score\n",
        "score = r2_score(Y_test , Y_pred)"
      ],
      "metadata": {
        "id": "dAWS_ZklpHaN"
      },
      "execution_count": null,
      "outputs": []
    },
    {
      "cell_type": "code",
      "source": [
        "print(score)"
      ],
      "metadata": {
        "colab": {
          "base_uri": "https://localhost:8080/"
        },
        "id": "vaZahpF4pUbG",
        "outputId": "0a3b79fc-e60d-47d7-e296-5d32ef19b065"
      },
      "execution_count": null,
      "outputs": [
        {
          "output_type": "stream",
          "name": "stdout",
          "text": [
            "0.38915959024972646\n"
          ]
        }
      ]
    },
    {
      "cell_type": "code",
      "source": [
        "Y_pred = clf2.predict(X_test)\n",
        "print(r2_score(Y_test,Y_pred))"
      ],
      "metadata": {
        "colab": {
          "base_uri": "https://localhost:8080/"
        },
        "id": "pQSz7BULplOA",
        "outputId": "84fbe7ea-48a6-4e88-8ec0-aac51bae50fc"
      },
      "execution_count": null,
      "outputs": [
        {
          "output_type": "stream",
          "name": "stdout",
          "text": [
            "0.8248536109766242\n"
          ]
        }
      ]
    },
    {
      "cell_type": "code",
      "source": [
        "Y_pred = clf3.predict(X_test)\n",
        "print(r2_score(Y_test,Y_pred))"
      ],
      "metadata": {
        "colab": {
          "base_uri": "https://localhost:8080/"
        },
        "id": "NGLunMvoqjTz",
        "outputId": "5a5e828c-b021-480d-af0e-a139edf3f3d5"
      },
      "execution_count": null,
      "outputs": [
        {
          "output_type": "stream",
          "name": "stdout",
          "text": [
            "0.8244706038786362\n"
          ]
        }
      ]
    },
    {
      "cell_type": "code",
      "source": [
        "from sklearn.tree import DecisionTreeRegressor\n",
        "model = DecisionTreeRegressor()\n",
        "#clf4 = model.fit(X_train,Y_train)"
      ],
      "metadata": {
        "id": "YkSGwTIPukd4"
      },
      "execution_count": null,
      "outputs": []
    },
    {
      "cell_type": "code",
      "source": [
        "#Y_pred = clf4.predict(X_test)\n",
        "#print(r2_score(Y_test,Y_pred))"
      ],
      "metadata": {
        "colab": {
          "base_uri": "https://localhost:8080/"
        },
        "id": "Afq2DedrZp1J",
        "outputId": "6600aa8a-66e5-46fa-d27c-b1348f7b6677"
      },
      "execution_count": null,
      "outputs": [
        {
          "output_type": "stream",
          "name": "stdout",
          "text": [
            "0.6463765668895081\n"
          ]
        }
      ]
    },
    {
      "cell_type": "code",
      "source": [
        "#from sklearn.ensemble import HistGradientBoostingRegressor\n",
        "#model = HistGradientBoostingRegressor()\n",
        "#clf5 = model.fit(X_train,Y_train)"
      ],
      "metadata": {
        "id": "PF0c-2uTZsdj"
      },
      "execution_count": null,
      "outputs": []
    },
    {
      "cell_type": "code",
      "source": [
        "#Y_pred = clf5.predict(X_test)\n",
        "#print(r2_score(Y_test,Y_pred))"
      ],
      "metadata": {
        "colab": {
          "base_uri": "https://localhost:8080/"
        },
        "id": "u9wo6ub4aFs8",
        "outputId": "3374b848-c94d-4235-dd28-8490b915a303"
      },
      "execution_count": null,
      "outputs": [
        {
          "output_type": "stream",
          "name": "stdout",
          "text": [
            "0.8075515747301446\n"
          ]
        }
      ]
    },
    {
      "cell_type": "code",
      "source": [
        "from sklearn.ensemble import StackingRegressor\n",
        "#estimators = [('lr2',clf2 ),('lr5', clf5)]\n",
        "#reg = StackingRegressor(estimators=estimators,final_estimator=RandomForestRegressor(n_estimators=10,random_state=42))"
      ],
      "metadata": {
        "id": "DxGjBTQnaLpT"
      },
      "execution_count": null,
      "outputs": []
    },
    {
      "cell_type": "code",
      "source": [
        "#clf6 = reg.fit(X_train, Y_train)"
      ],
      "metadata": {
        "id": "Kg_JON1XbC9s"
      },
      "execution_count": null,
      "outputs": []
    },
    {
      "cell_type": "code",
      "source": [
        "#Y_pred = clf6.predict(X_test)\n",
        "#print(r2_score(Y_test,Y_pred))"
      ],
      "metadata": {
        "id": "IYe4OWU9bI07"
      },
      "execution_count": null,
      "outputs": []
    },
    {
      "cell_type": "code",
      "source": [
        "test_data.head()"
      ],
      "metadata": {
        "id": "RnF17abzbo5O"
      },
      "execution_count": null,
      "outputs": []
    },
    {
      "cell_type": "code",
      "source": [
        "test_data['Furnishing'] = test_data['Furnishing'].replace(['Semi_Furnished', 'Unfurnished', 'Fully Furnished', np.NaN],[1,2,3,0])\n",
        "test_data['Property_Type'] = test_data['Property_Type'].replace(['Apartment', 'Bungalow', 'Single-family home', 'Duplex','#R%$G&867', 'Container Home'],[1,2,3,4,0,5])\n",
        "test_data['Water_Supply'] = test_data['Water_Supply'].replace(['Once in a day - Morning', 'Once in a day - Evening', 'All time','NOT MENTIONED', 'Once in two days'],[1,2,3,0,4])\n",
        "test_data['Crime_Rate'] = test_data['Crime_Rate'].replace(['Slightly below average', 'Well below average','Well above average', np.NaN, 'Slightly above average'],[1,2,3,0,4])\n",
        "test_data['Dust_and_Noise'] = test_data['Dust_and_Noise'].replace(['Medium', np.NaN, 'High', 'Low'],[2,0,3,1])\n",
        "test_data['Power_Backup'] = test_data['Power_Backup'].replace(['No', 'Yes','NOT MENTIONED'],[0,1,-1])\n",
        "#data_train['Frequency_of_Powercuts'] = data['Frequency_of_Powercuts'].replace([np.NaN]],[0.5])\n",
        "\n",
        "test_data = test_data.replace(np.NaN,0)\n",
        "X_test = test_data.iloc[:,1:]\n",
        "firstCol = data_test['Property_ID']"
      ],
      "metadata": {
        "id": "vTKPeeQ2cRT2"
      },
      "execution_count": null,
      "outputs": []
    },
    {
      "cell_type": "code",
      "source": [
        "test_data.head()"
      ],
      "metadata": {
        "colab": {
          "base_uri": "https://localhost:8080/",
          "height": 270
        },
        "id": "a7WspHJDcnUu",
        "outputId": "4ba124d5-454a-47bc-9cda-d486d36ff878"
      },
      "execution_count": null,
      "outputs": [
        {
          "output_type": "execute_result",
          "data": {
            "text/plain": [
              "  Property_ID  Property_Type  Property_Area  Number_of_Windows  \\\n",
              "0      0x6e93              1            293                3.0   \n",
              "1      0x8787              1            586                4.0   \n",
              "2      0x6c17              5            305                1.0   \n",
              "3      0x9dbd              1            258                2.0   \n",
              "4      0xbfde              2           3031               12.0   \n",
              "\n",
              "   Number_of_Doors  Furnishing  Frequency_of_Powercuts  Power_Backup  \\\n",
              "0                1           2                     0.0             0   \n",
              "1                1           1                     0.0             0   \n",
              "2                2           1                     1.0             0   \n",
              "3                1           1                     1.0             0   \n",
              "4                4           3                     0.0             0   \n",
              "\n",
              "   Water_Supply  Traffic_Density_Score  Crime_Rate  Dust_and_Noise  \\\n",
              "0             1                   7.28           3               2   \n",
              "1             2                   7.63           2               2   \n",
              "2             3                   5.39           4               2   \n",
              "3             3                   7.53           1               2   \n",
              "4             3                   8.79           3               3   \n",
              "\n",
              "   Air_Quality_Index  Neighborhood_Review  \n",
              "0              152.0                 2.52  \n",
              "1               92.0                 4.16  \n",
              "2               90.0                 2.92  \n",
              "3              158.0                 3.45  \n",
              "4              186.0                 2.72  "
            ],
            "text/html": [
              "\n",
              "  <div id=\"df-75cb7cda-a89e-46cd-97d3-a7aca83355d6\">\n",
              "    <div class=\"colab-df-container\">\n",
              "      <div>\n",
              "<style scoped>\n",
              "    .dataframe tbody tr th:only-of-type {\n",
              "        vertical-align: middle;\n",
              "    }\n",
              "\n",
              "    .dataframe tbody tr th {\n",
              "        vertical-align: top;\n",
              "    }\n",
              "\n",
              "    .dataframe thead th {\n",
              "        text-align: right;\n",
              "    }\n",
              "</style>\n",
              "<table border=\"1\" class=\"dataframe\">\n",
              "  <thead>\n",
              "    <tr style=\"text-align: right;\">\n",
              "      <th></th>\n",
              "      <th>Property_ID</th>\n",
              "      <th>Property_Type</th>\n",
              "      <th>Property_Area</th>\n",
              "      <th>Number_of_Windows</th>\n",
              "      <th>Number_of_Doors</th>\n",
              "      <th>Furnishing</th>\n",
              "      <th>Frequency_of_Powercuts</th>\n",
              "      <th>Power_Backup</th>\n",
              "      <th>Water_Supply</th>\n",
              "      <th>Traffic_Density_Score</th>\n",
              "      <th>Crime_Rate</th>\n",
              "      <th>Dust_and_Noise</th>\n",
              "      <th>Air_Quality_Index</th>\n",
              "      <th>Neighborhood_Review</th>\n",
              "    </tr>\n",
              "  </thead>\n",
              "  <tbody>\n",
              "    <tr>\n",
              "      <th>0</th>\n",
              "      <td>0x6e93</td>\n",
              "      <td>1</td>\n",
              "      <td>293</td>\n",
              "      <td>3.0</td>\n",
              "      <td>1</td>\n",
              "      <td>2</td>\n",
              "      <td>0.0</td>\n",
              "      <td>0</td>\n",
              "      <td>1</td>\n",
              "      <td>7.28</td>\n",
              "      <td>3</td>\n",
              "      <td>2</td>\n",
              "      <td>152.0</td>\n",
              "      <td>2.52</td>\n",
              "    </tr>\n",
              "    <tr>\n",
              "      <th>1</th>\n",
              "      <td>0x8787</td>\n",
              "      <td>1</td>\n",
              "      <td>586</td>\n",
              "      <td>4.0</td>\n",
              "      <td>1</td>\n",
              "      <td>1</td>\n",
              "      <td>0.0</td>\n",
              "      <td>0</td>\n",
              "      <td>2</td>\n",
              "      <td>7.63</td>\n",
              "      <td>2</td>\n",
              "      <td>2</td>\n",
              "      <td>92.0</td>\n",
              "      <td>4.16</td>\n",
              "    </tr>\n",
              "    <tr>\n",
              "      <th>2</th>\n",
              "      <td>0x6c17</td>\n",
              "      <td>5</td>\n",
              "      <td>305</td>\n",
              "      <td>1.0</td>\n",
              "      <td>2</td>\n",
              "      <td>1</td>\n",
              "      <td>1.0</td>\n",
              "      <td>0</td>\n",
              "      <td>3</td>\n",
              "      <td>5.39</td>\n",
              "      <td>4</td>\n",
              "      <td>2</td>\n",
              "      <td>90.0</td>\n",
              "      <td>2.92</td>\n",
              "    </tr>\n",
              "    <tr>\n",
              "      <th>3</th>\n",
              "      <td>0x9dbd</td>\n",
              "      <td>1</td>\n",
              "      <td>258</td>\n",
              "      <td>2.0</td>\n",
              "      <td>1</td>\n",
              "      <td>1</td>\n",
              "      <td>1.0</td>\n",
              "      <td>0</td>\n",
              "      <td>3</td>\n",
              "      <td>7.53</td>\n",
              "      <td>1</td>\n",
              "      <td>2</td>\n",
              "      <td>158.0</td>\n",
              "      <td>3.45</td>\n",
              "    </tr>\n",
              "    <tr>\n",
              "      <th>4</th>\n",
              "      <td>0xbfde</td>\n",
              "      <td>2</td>\n",
              "      <td>3031</td>\n",
              "      <td>12.0</td>\n",
              "      <td>4</td>\n",
              "      <td>3</td>\n",
              "      <td>0.0</td>\n",
              "      <td>0</td>\n",
              "      <td>3</td>\n",
              "      <td>8.79</td>\n",
              "      <td>3</td>\n",
              "      <td>3</td>\n",
              "      <td>186.0</td>\n",
              "      <td>2.72</td>\n",
              "    </tr>\n",
              "  </tbody>\n",
              "</table>\n",
              "</div>\n",
              "      <button class=\"colab-df-convert\" onclick=\"convertToInteractive('df-75cb7cda-a89e-46cd-97d3-a7aca83355d6')\"\n",
              "              title=\"Convert this dataframe to an interactive table.\"\n",
              "              style=\"display:none;\">\n",
              "        \n",
              "  <svg xmlns=\"http://www.w3.org/2000/svg\" height=\"24px\"viewBox=\"0 0 24 24\"\n",
              "       width=\"24px\">\n",
              "    <path d=\"M0 0h24v24H0V0z\" fill=\"none\"/>\n",
              "    <path d=\"M18.56 5.44l.94 2.06.94-2.06 2.06-.94-2.06-.94-.94-2.06-.94 2.06-2.06.94zm-11 1L8.5 8.5l.94-2.06 2.06-.94-2.06-.94L8.5 2.5l-.94 2.06-2.06.94zm10 10l.94 2.06.94-2.06 2.06-.94-2.06-.94-.94-2.06-.94 2.06-2.06.94z\"/><path d=\"M17.41 7.96l-1.37-1.37c-.4-.4-.92-.59-1.43-.59-.52 0-1.04.2-1.43.59L10.3 9.45l-7.72 7.72c-.78.78-.78 2.05 0 2.83L4 21.41c.39.39.9.59 1.41.59.51 0 1.02-.2 1.41-.59l7.78-7.78 2.81-2.81c.8-.78.8-2.07 0-2.86zM5.41 20L4 18.59l7.72-7.72 1.47 1.35L5.41 20z\"/>\n",
              "  </svg>\n",
              "      </button>\n",
              "      \n",
              "  <style>\n",
              "    .colab-df-container {\n",
              "      display:flex;\n",
              "      flex-wrap:wrap;\n",
              "      gap: 12px;\n",
              "    }\n",
              "\n",
              "    .colab-df-convert {\n",
              "      background-color: #E8F0FE;\n",
              "      border: none;\n",
              "      border-radius: 50%;\n",
              "      cursor: pointer;\n",
              "      display: none;\n",
              "      fill: #1967D2;\n",
              "      height: 32px;\n",
              "      padding: 0 0 0 0;\n",
              "      width: 32px;\n",
              "    }\n",
              "\n",
              "    .colab-df-convert:hover {\n",
              "      background-color: #E2EBFA;\n",
              "      box-shadow: 0px 1px 2px rgba(60, 64, 67, 0.3), 0px 1px 3px 1px rgba(60, 64, 67, 0.15);\n",
              "      fill: #174EA6;\n",
              "    }\n",
              "\n",
              "    [theme=dark] .colab-df-convert {\n",
              "      background-color: #3B4455;\n",
              "      fill: #D2E3FC;\n",
              "    }\n",
              "\n",
              "    [theme=dark] .colab-df-convert:hover {\n",
              "      background-color: #434B5C;\n",
              "      box-shadow: 0px 1px 3px 1px rgba(0, 0, 0, 0.15);\n",
              "      filter: drop-shadow(0px 1px 2px rgba(0, 0, 0, 0.3));\n",
              "      fill: #FFFFFF;\n",
              "    }\n",
              "  </style>\n",
              "\n",
              "      <script>\n",
              "        const buttonEl =\n",
              "          document.querySelector('#df-75cb7cda-a89e-46cd-97d3-a7aca83355d6 button.colab-df-convert');\n",
              "        buttonEl.style.display =\n",
              "          google.colab.kernel.accessAllowed ? 'block' : 'none';\n",
              "\n",
              "        async function convertToInteractive(key) {\n",
              "          const element = document.querySelector('#df-75cb7cda-a89e-46cd-97d3-a7aca83355d6');\n",
              "          const dataTable =\n",
              "            await google.colab.kernel.invokeFunction('convertToInteractive',\n",
              "                                                     [key], {});\n",
              "          if (!dataTable) return;\n",
              "\n",
              "          const docLinkHtml = 'Like what you see? Visit the ' +\n",
              "            '<a target=\"_blank\" href=https://colab.research.google.com/notebooks/data_table.ipynb>data table notebook</a>'\n",
              "            + ' to learn more about interactive tables.';\n",
              "          element.innerHTML = '';\n",
              "          dataTable['output_type'] = 'display_data';\n",
              "          await google.colab.output.renderOutput(dataTable, element);\n",
              "          const docLink = document.createElement('div');\n",
              "          docLink.innerHTML = docLinkHtml;\n",
              "          element.appendChild(docLink);\n",
              "        }\n",
              "      </script>\n",
              "    </div>\n",
              "  </div>\n",
              "  "
            ]
          },
          "metadata": {},
          "execution_count": 30
        }
      ]
    },
    {
      "cell_type": "code",
      "source": [
        "X_test"
      ],
      "metadata": {
        "colab": {
          "base_uri": "https://localhost:8080/",
          "height": 488
        },
        "id": "JZfsFrAKcpGF",
        "outputId": "7f72a263-d0ca-4077-e58c-23852acd6629"
      },
      "execution_count": null,
      "outputs": [
        {
          "output_type": "execute_result",
          "data": {
            "text/plain": [
              "       Property_Type  Property_Area  Number_of_Windows  Number_of_Doors  \\\n",
              "0                  1            293                3.0                1   \n",
              "1                  1            586                4.0                1   \n",
              "2                  5            305                1.0                2   \n",
              "3                  1            258                2.0                1   \n",
              "4                  2           3031               12.0                4   \n",
              "...              ...            ...                ...              ...   \n",
              "10495              1            961                0.0                3   \n",
              "10496              5            282                1.0                2   \n",
              "10497              4          27445                0.0                2   \n",
              "10498              3           1451                2.0                3   \n",
              "10499              1            578                0.0                1   \n",
              "\n",
              "       Furnishing  Frequency_of_Powercuts  Power_Backup  Water_Supply  \\\n",
              "0               2                     0.0             0             1   \n",
              "1               1                     0.0             0             2   \n",
              "2               1                     1.0             0             3   \n",
              "3               1                     1.0             0             3   \n",
              "4               3                     0.0             0             3   \n",
              "...           ...                     ...           ...           ...   \n",
              "10495           2                     0.0             0             2   \n",
              "10496           1                     3.0             1             3   \n",
              "10497           3                     0.0             0             2   \n",
              "10498           2                     1.0             1             2   \n",
              "10499           1                     0.0             0             3   \n",
              "\n",
              "       Traffic_Density_Score  Crime_Rate  Dust_and_Noise  Air_Quality_Index  \\\n",
              "0                       7.28           3               2              152.0   \n",
              "1                       7.63           2               2               92.0   \n",
              "2                       5.39           4               2               90.0   \n",
              "3                       7.53           1               2              158.0   \n",
              "4                       8.79           3               3              186.0   \n",
              "...                      ...         ...             ...                ...   \n",
              "10495                   5.44           1               2               94.0   \n",
              "10496                   6.72           2               2              106.0   \n",
              "10497                   9.28           2               3              149.0   \n",
              "10498                   6.25           2               2              131.0   \n",
              "10499                   5.98           1               2              112.0   \n",
              "\n",
              "       Neighborhood_Review  \n",
              "0                     2.52  \n",
              "1                     4.16  \n",
              "2                     2.92  \n",
              "3                     3.45  \n",
              "4                     2.72  \n",
              "...                    ...  \n",
              "10495                 3.55  \n",
              "10496                 2.90  \n",
              "10497                 4.02  \n",
              "10498                 3.49  \n",
              "10499                 4.15  \n",
              "\n",
              "[10500 rows x 13 columns]"
            ],
            "text/html": [
              "\n",
              "  <div id=\"df-56d10ecc-5fdf-4aee-8952-e48a56a58832\">\n",
              "    <div class=\"colab-df-container\">\n",
              "      <div>\n",
              "<style scoped>\n",
              "    .dataframe tbody tr th:only-of-type {\n",
              "        vertical-align: middle;\n",
              "    }\n",
              "\n",
              "    .dataframe tbody tr th {\n",
              "        vertical-align: top;\n",
              "    }\n",
              "\n",
              "    .dataframe thead th {\n",
              "        text-align: right;\n",
              "    }\n",
              "</style>\n",
              "<table border=\"1\" class=\"dataframe\">\n",
              "  <thead>\n",
              "    <tr style=\"text-align: right;\">\n",
              "      <th></th>\n",
              "      <th>Property_Type</th>\n",
              "      <th>Property_Area</th>\n",
              "      <th>Number_of_Windows</th>\n",
              "      <th>Number_of_Doors</th>\n",
              "      <th>Furnishing</th>\n",
              "      <th>Frequency_of_Powercuts</th>\n",
              "      <th>Power_Backup</th>\n",
              "      <th>Water_Supply</th>\n",
              "      <th>Traffic_Density_Score</th>\n",
              "      <th>Crime_Rate</th>\n",
              "      <th>Dust_and_Noise</th>\n",
              "      <th>Air_Quality_Index</th>\n",
              "      <th>Neighborhood_Review</th>\n",
              "    </tr>\n",
              "  </thead>\n",
              "  <tbody>\n",
              "    <tr>\n",
              "      <th>0</th>\n",
              "      <td>1</td>\n",
              "      <td>293</td>\n",
              "      <td>3.0</td>\n",
              "      <td>1</td>\n",
              "      <td>2</td>\n",
              "      <td>0.0</td>\n",
              "      <td>0</td>\n",
              "      <td>1</td>\n",
              "      <td>7.28</td>\n",
              "      <td>3</td>\n",
              "      <td>2</td>\n",
              "      <td>152.0</td>\n",
              "      <td>2.52</td>\n",
              "    </tr>\n",
              "    <tr>\n",
              "      <th>1</th>\n",
              "      <td>1</td>\n",
              "      <td>586</td>\n",
              "      <td>4.0</td>\n",
              "      <td>1</td>\n",
              "      <td>1</td>\n",
              "      <td>0.0</td>\n",
              "      <td>0</td>\n",
              "      <td>2</td>\n",
              "      <td>7.63</td>\n",
              "      <td>2</td>\n",
              "      <td>2</td>\n",
              "      <td>92.0</td>\n",
              "      <td>4.16</td>\n",
              "    </tr>\n",
              "    <tr>\n",
              "      <th>2</th>\n",
              "      <td>5</td>\n",
              "      <td>305</td>\n",
              "      <td>1.0</td>\n",
              "      <td>2</td>\n",
              "      <td>1</td>\n",
              "      <td>1.0</td>\n",
              "      <td>0</td>\n",
              "      <td>3</td>\n",
              "      <td>5.39</td>\n",
              "      <td>4</td>\n",
              "      <td>2</td>\n",
              "      <td>90.0</td>\n",
              "      <td>2.92</td>\n",
              "    </tr>\n",
              "    <tr>\n",
              "      <th>3</th>\n",
              "      <td>1</td>\n",
              "      <td>258</td>\n",
              "      <td>2.0</td>\n",
              "      <td>1</td>\n",
              "      <td>1</td>\n",
              "      <td>1.0</td>\n",
              "      <td>0</td>\n",
              "      <td>3</td>\n",
              "      <td>7.53</td>\n",
              "      <td>1</td>\n",
              "      <td>2</td>\n",
              "      <td>158.0</td>\n",
              "      <td>3.45</td>\n",
              "    </tr>\n",
              "    <tr>\n",
              "      <th>4</th>\n",
              "      <td>2</td>\n",
              "      <td>3031</td>\n",
              "      <td>12.0</td>\n",
              "      <td>4</td>\n",
              "      <td>3</td>\n",
              "      <td>0.0</td>\n",
              "      <td>0</td>\n",
              "      <td>3</td>\n",
              "      <td>8.79</td>\n",
              "      <td>3</td>\n",
              "      <td>3</td>\n",
              "      <td>186.0</td>\n",
              "      <td>2.72</td>\n",
              "    </tr>\n",
              "    <tr>\n",
              "      <th>...</th>\n",
              "      <td>...</td>\n",
              "      <td>...</td>\n",
              "      <td>...</td>\n",
              "      <td>...</td>\n",
              "      <td>...</td>\n",
              "      <td>...</td>\n",
              "      <td>...</td>\n",
              "      <td>...</td>\n",
              "      <td>...</td>\n",
              "      <td>...</td>\n",
              "      <td>...</td>\n",
              "      <td>...</td>\n",
              "      <td>...</td>\n",
              "    </tr>\n",
              "    <tr>\n",
              "      <th>10495</th>\n",
              "      <td>1</td>\n",
              "      <td>961</td>\n",
              "      <td>0.0</td>\n",
              "      <td>3</td>\n",
              "      <td>2</td>\n",
              "      <td>0.0</td>\n",
              "      <td>0</td>\n",
              "      <td>2</td>\n",
              "      <td>5.44</td>\n",
              "      <td>1</td>\n",
              "      <td>2</td>\n",
              "      <td>94.0</td>\n",
              "      <td>3.55</td>\n",
              "    </tr>\n",
              "    <tr>\n",
              "      <th>10496</th>\n",
              "      <td>5</td>\n",
              "      <td>282</td>\n",
              "      <td>1.0</td>\n",
              "      <td>2</td>\n",
              "      <td>1</td>\n",
              "      <td>3.0</td>\n",
              "      <td>1</td>\n",
              "      <td>3</td>\n",
              "      <td>6.72</td>\n",
              "      <td>2</td>\n",
              "      <td>2</td>\n",
              "      <td>106.0</td>\n",
              "      <td>2.90</td>\n",
              "    </tr>\n",
              "    <tr>\n",
              "      <th>10497</th>\n",
              "      <td>4</td>\n",
              "      <td>27445</td>\n",
              "      <td>0.0</td>\n",
              "      <td>2</td>\n",
              "      <td>3</td>\n",
              "      <td>0.0</td>\n",
              "      <td>0</td>\n",
              "      <td>2</td>\n",
              "      <td>9.28</td>\n",
              "      <td>2</td>\n",
              "      <td>3</td>\n",
              "      <td>149.0</td>\n",
              "      <td>4.02</td>\n",
              "    </tr>\n",
              "    <tr>\n",
              "      <th>10498</th>\n",
              "      <td>3</td>\n",
              "      <td>1451</td>\n",
              "      <td>2.0</td>\n",
              "      <td>3</td>\n",
              "      <td>2</td>\n",
              "      <td>1.0</td>\n",
              "      <td>1</td>\n",
              "      <td>2</td>\n",
              "      <td>6.25</td>\n",
              "      <td>2</td>\n",
              "      <td>2</td>\n",
              "      <td>131.0</td>\n",
              "      <td>3.49</td>\n",
              "    </tr>\n",
              "    <tr>\n",
              "      <th>10499</th>\n",
              "      <td>1</td>\n",
              "      <td>578</td>\n",
              "      <td>0.0</td>\n",
              "      <td>1</td>\n",
              "      <td>1</td>\n",
              "      <td>0.0</td>\n",
              "      <td>0</td>\n",
              "      <td>3</td>\n",
              "      <td>5.98</td>\n",
              "      <td>1</td>\n",
              "      <td>2</td>\n",
              "      <td>112.0</td>\n",
              "      <td>4.15</td>\n",
              "    </tr>\n",
              "  </tbody>\n",
              "</table>\n",
              "<p>10500 rows × 13 columns</p>\n",
              "</div>\n",
              "      <button class=\"colab-df-convert\" onclick=\"convertToInteractive('df-56d10ecc-5fdf-4aee-8952-e48a56a58832')\"\n",
              "              title=\"Convert this dataframe to an interactive table.\"\n",
              "              style=\"display:none;\">\n",
              "        \n",
              "  <svg xmlns=\"http://www.w3.org/2000/svg\" height=\"24px\"viewBox=\"0 0 24 24\"\n",
              "       width=\"24px\">\n",
              "    <path d=\"M0 0h24v24H0V0z\" fill=\"none\"/>\n",
              "    <path d=\"M18.56 5.44l.94 2.06.94-2.06 2.06-.94-2.06-.94-.94-2.06-.94 2.06-2.06.94zm-11 1L8.5 8.5l.94-2.06 2.06-.94-2.06-.94L8.5 2.5l-.94 2.06-2.06.94zm10 10l.94 2.06.94-2.06 2.06-.94-2.06-.94-.94-2.06-.94 2.06-2.06.94z\"/><path d=\"M17.41 7.96l-1.37-1.37c-.4-.4-.92-.59-1.43-.59-.52 0-1.04.2-1.43.59L10.3 9.45l-7.72 7.72c-.78.78-.78 2.05 0 2.83L4 21.41c.39.39.9.59 1.41.59.51 0 1.02-.2 1.41-.59l7.78-7.78 2.81-2.81c.8-.78.8-2.07 0-2.86zM5.41 20L4 18.59l7.72-7.72 1.47 1.35L5.41 20z\"/>\n",
              "  </svg>\n",
              "      </button>\n",
              "      \n",
              "  <style>\n",
              "    .colab-df-container {\n",
              "      display:flex;\n",
              "      flex-wrap:wrap;\n",
              "      gap: 12px;\n",
              "    }\n",
              "\n",
              "    .colab-df-convert {\n",
              "      background-color: #E8F0FE;\n",
              "      border: none;\n",
              "      border-radius: 50%;\n",
              "      cursor: pointer;\n",
              "      display: none;\n",
              "      fill: #1967D2;\n",
              "      height: 32px;\n",
              "      padding: 0 0 0 0;\n",
              "      width: 32px;\n",
              "    }\n",
              "\n",
              "    .colab-df-convert:hover {\n",
              "      background-color: #E2EBFA;\n",
              "      box-shadow: 0px 1px 2px rgba(60, 64, 67, 0.3), 0px 1px 3px 1px rgba(60, 64, 67, 0.15);\n",
              "      fill: #174EA6;\n",
              "    }\n",
              "\n",
              "    [theme=dark] .colab-df-convert {\n",
              "      background-color: #3B4455;\n",
              "      fill: #D2E3FC;\n",
              "    }\n",
              "\n",
              "    [theme=dark] .colab-df-convert:hover {\n",
              "      background-color: #434B5C;\n",
              "      box-shadow: 0px 1px 3px 1px rgba(0, 0, 0, 0.15);\n",
              "      filter: drop-shadow(0px 1px 2px rgba(0, 0, 0, 0.3));\n",
              "      fill: #FFFFFF;\n",
              "    }\n",
              "  </style>\n",
              "\n",
              "      <script>\n",
              "        const buttonEl =\n",
              "          document.querySelector('#df-56d10ecc-5fdf-4aee-8952-e48a56a58832 button.colab-df-convert');\n",
              "        buttonEl.style.display =\n",
              "          google.colab.kernel.accessAllowed ? 'block' : 'none';\n",
              "\n",
              "        async function convertToInteractive(key) {\n",
              "          const element = document.querySelector('#df-56d10ecc-5fdf-4aee-8952-e48a56a58832');\n",
              "          const dataTable =\n",
              "            await google.colab.kernel.invokeFunction('convertToInteractive',\n",
              "                                                     [key], {});\n",
              "          if (!dataTable) return;\n",
              "\n",
              "          const docLinkHtml = 'Like what you see? Visit the ' +\n",
              "            '<a target=\"_blank\" href=https://colab.research.google.com/notebooks/data_table.ipynb>data table notebook</a>'\n",
              "            + ' to learn more about interactive tables.';\n",
              "          element.innerHTML = '';\n",
              "          dataTable['output_type'] = 'display_data';\n",
              "          await google.colab.output.renderOutput(dataTable, element);\n",
              "          const docLink = document.createElement('div');\n",
              "          docLink.innerHTML = docLinkHtml;\n",
              "          element.appendChild(docLink);\n",
              "        }\n",
              "      </script>\n",
              "    </div>\n",
              "  </div>\n",
              "  "
            ]
          },
          "metadata": {},
          "execution_count": 31
        }
      ]
    },
    {
      "cell_type": "code",
      "source": [
        "Y_pred = clf3.predict(X_test)"
      ],
      "metadata": {
        "id": "fxqBXLVwc2QF"
      },
      "execution_count": null,
      "outputs": []
    },
    {
      "cell_type": "code",
      "source": [
        "Y_pred"
      ],
      "metadata": {
        "colab": {
          "base_uri": "https://localhost:8080/"
        },
        "id": "KTOE_xQhdZaY",
        "outputId": "b1ec2905-a014-493c-d209-cb23c4267041"
      },
      "execution_count": null,
      "outputs": [
        {
          "output_type": "execute_result",
          "data": {
            "text/plain": [
              "array([31.54686667, 80.40773333, 61.92853333, ..., 75.1928    ,\n",
              "       79.53113333, 81.52966667])"
            ]
          },
          "metadata": {},
          "execution_count": 33
        }
      ]
    },
    {
      "cell_type": "code",
      "source": [
        "firstCol"
      ],
      "metadata": {
        "id": "iorHr9w0dgSr"
      },
      "execution_count": null,
      "outputs": []
    },
    {
      "cell_type": "code",
      "source": [
        "firstCol.to_csv(index=False)"
      ],
      "metadata": {
        "id": "tbtERr7ad1UD"
      },
      "execution_count": null,
      "outputs": []
    },
    {
      "cell_type": "code",
      "source": [
        "!pwd"
      ],
      "metadata": {
        "id": "hts5fCz_eHJU"
      },
      "execution_count": null,
      "outputs": []
    },
    {
      "cell_type": "code",
      "source": [
        "from pathlib import Path  \n",
        "\n",
        "filepath = Path('/content/out.csv')  \n",
        "\n",
        "filepath.parent.mkdir(parents=True, exist_ok=True)  \n",
        "\n",
        "firstCol.to_csv(filepath) "
      ],
      "metadata": {
        "id": "RO-wjoj8eP1b"
      },
      "execution_count": null,
      "outputs": []
    },
    {
      "cell_type": "code",
      "source": [
        "series = pd.Series(Y_pred)\n",
        "\n",
        "filepath = Path('/content/in.csv')  \n",
        "\n",
        "filepath.parent.mkdir(parents=True, exist_ok=True)  \n",
        "\n",
        "series.to_csv(filepath) "
      ],
      "metadata": {
        "id": "EnIyDCQCedzd"
      },
      "execution_count": null,
      "outputs": []
    },
    {
      "cell_type": "code",
      "source": [
        ""
      ],
      "metadata": {
        "id": "UOXvsVSjeukR"
      },
      "execution_count": null,
      "outputs": []
    }
  ]
}